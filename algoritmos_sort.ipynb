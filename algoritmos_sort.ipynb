{
 "cells": [
  {
   "cell_type": "markdown",
   "metadata": {},
   "source": [
    "# BUBLLE SORT\n",
    "\n",
    "# complexidade melhor caso: o(n)\n",
    "# complexidade pior caso : o(n²)"
   ]
  },
  {
   "cell_type": "code",
   "execution_count": 59,
   "metadata": {},
   "outputs": [],
   "source": [
    "def bubbleSort(lista):\n",
    "    if len(lista) <= 1:\n",
    "        listaOrdenada = lista\n",
    "    else:\n",
    "        for j in range(0,len(lista)):\n",
    "            for i in range(0,len(lista)-1):\n",
    "                if lista[i] > lista[i+1]:\n",
    "                    aux = lista[i+1]\n",
    "                    lista[i+1] = lista[i]\n",
    "                    lista[i] = aux\n",
    "        listaOrdenada = lista\n",
    "    \n",
    "    return listaOrdenada"
   ]
  },
  {
   "cell_type": "code",
   "execution_count": 61,
   "metadata": {},
   "outputs": [
    {
     "name": "stdout",
     "output_type": "stream",
     "text": [
      "[5, 3, 2, 4, 7, 1, 0, 6]\n"
     ]
    }
   ],
   "source": [
    "listaNaoOrdenada = [5,3,2,4,7,1,0,6]\n",
    "print(listaNaoOrdenada)"
   ]
  },
  {
   "cell_type": "code",
   "execution_count": 63,
   "metadata": {},
   "outputs": [
    {
     "name": "stdout",
     "output_type": "stream",
     "text": [
      "CPU times: user 33 µs, sys: 5 µs, total: 38 µs\n",
      "Wall time: 46 µs\n"
     ]
    },
    {
     "data": {
      "text/plain": [
       "[0, 1, 2, 3, 4, 5, 6, 7]"
      ]
     },
     "execution_count": 63,
     "metadata": {},
     "output_type": "execute_result"
    }
   ],
   "source": [
    "%%time\n",
    "bubbleSort(listaNaoOrdenada)"
   ]
  },
  {
   "cell_type": "markdown",
   "metadata": {},
   "source": [
    "# QUICK SORT\n",
    "# Algoritmo mais rápido\n",
    "# complexidade pior caso : o(n²) \n",
    "# complexidade melhor e médio caso : o(n log n) "
   ]
  },
  {
   "cell_type": "code",
   "execution_count": 75,
   "metadata": {},
   "outputs": [],
   "source": [
    "def troca(lista, pos1, pos2):\n",
    "    temp = lista[pos1]\n",
    "    lista[pos1] = lista[pos2]\n",
    "    lista[pos2] = temp\n",
    "    \n",
    "def particao(lista,inicio,fim):\n",
    "    pivot = lista[inicio]\n",
    "    while True:\n",
    "        while lista[inicio] < pivot:\n",
    "            inicio = inicio + 1\n",
    "            \n",
    "        while lista[fim] > pivot:\n",
    "            fim = fim - 1\n",
    "            \n",
    "        if inicio >= fim:\n",
    "            return fim\n",
    "        \n",
    "        troca(lista, inicio, fim)\n",
    "        \n",
    "        inicio = inicio + 1\n",
    "        fim = fim - 1\n",
    "          \n",
    "def quickSort(lista,inicio,fim):\n",
    "    if inicio < fim:\n",
    "        p = particao(lista,inicio,fim)\n",
    "        quickSort(lista,inicio,p)\n",
    "        quickSort(lista,p+1,fim)\n",
    "    return lista"
   ]
  },
  {
   "cell_type": "code",
   "execution_count": 76,
   "metadata": {},
   "outputs": [
    {
     "name": "stdout",
     "output_type": "stream",
     "text": [
      "[5, 3, 2, 4, 7, 1, 0, 6]\n"
     ]
    }
   ],
   "source": [
    "listaNaoOrdenada = [5,3,2,4,7,1,0,6]\n",
    "print(listaNaoOrdenada)"
   ]
  },
  {
   "cell_type": "code",
   "execution_count": 77,
   "metadata": {},
   "outputs": [
    {
     "name": "stdout",
     "output_type": "stream",
     "text": [
      "CPU times: user 9 µs, sys: 1 µs, total: 10 µs\n",
      "Wall time: 11.4 µs\n"
     ]
    },
    {
     "data": {
      "text/plain": [
       "[0, 1, 2, 3, 4, 5, 6, 7]"
      ]
     },
     "execution_count": 77,
     "metadata": {},
     "output_type": "execute_result"
    }
   ],
   "source": [
    "%%time\n",
    "quickSort(listaNaoOrdenada,0,len(listaNaoOrdenada)-1)"
   ]
  },
  {
   "cell_type": "markdown",
   "metadata": {},
   "source": [
    "# MERGE SORT\n",
    "\n",
    "# complexidade o(n log n) para todos os casos\n",
    "# estrategia de dividir para conquistar"
   ]
  },
  {
   "cell_type": "code",
   "execution_count": 84,
   "metadata": {},
   "outputs": [],
   "source": [
    "def mergeSort(lista):\n",
    "    if len(lista) > 1:\n",
    "        meio = len(lista)//2\n",
    "        esquerda = lista[:meio]\n",
    "        direita = lista[meio:]\n",
    "        \n",
    "        mergeSort(esquerda)\n",
    "        mergeSort(direita)\n",
    "        \n",
    "        i = 0\n",
    "        j = 0\n",
    "        k = 0\n",
    "        \n",
    "        # Copia temporaria\n",
    "        while i < len(esquerda) and j < len(direita):\n",
    "            if esquerda[i] <= direita[j]:\n",
    "                lista[k] = esquerda[i]\n",
    "                i = i + 1\n",
    "            else:\n",
    "                lista[k] = direita[j]\n",
    "                j = j + 1\n",
    "            k = k + 1\n",
    "            \n",
    "        while i < len(esquerda):\n",
    "            lista[k] = esquerda[i]\n",
    "            i = i + 1\n",
    "            k = k + 1\n",
    "            \n",
    "        while j < len(direita):\n",
    "            lista[k] = direita[j]\n",
    "            j = j + 1\n",
    "            k = k + 1\n",
    "        \n",
    "    return lista"
   ]
  },
  {
   "cell_type": "code",
   "execution_count": 85,
   "metadata": {},
   "outputs": [
    {
     "name": "stdout",
     "output_type": "stream",
     "text": [
      "[5, 3, 2, 4, 7, 1, 0, 6]\n"
     ]
    }
   ],
   "source": [
    "listaNaoOrdenada = [5,3,2,4,7,1,0,6]\n",
    "print(listaNaoOrdenada)"
   ]
  },
  {
   "cell_type": "code",
   "execution_count": 86,
   "metadata": {},
   "outputs": [
    {
     "name": "stdout",
     "output_type": "stream",
     "text": [
      "CPU times: user 13 µs, sys: 0 ns, total: 13 µs\n",
      "Wall time: 14.1 µs\n"
     ]
    },
    {
     "data": {
      "text/plain": [
       "[0, 1, 2, 3, 4, 5, 6, 7]"
      ]
     },
     "execution_count": 86,
     "metadata": {},
     "output_type": "execute_result"
    }
   ],
   "source": [
    "%%time\n",
    "mergeSort(listaNaoOrdenada)"
   ]
  },
  {
   "cell_type": "code",
   "execution_count": null,
   "metadata": {},
   "outputs": [],
   "source": []
  }
 ],
 "metadata": {
  "kernelspec": {
   "display_name": "Python 3",
   "language": "python",
   "name": "python3"
  },
  "language_info": {
   "codemirror_mode": {
    "name": "ipython",
    "version": 3
   },
   "file_extension": ".py",
   "mimetype": "text/x-python",
   "name": "python",
   "nbconvert_exporter": "python",
   "pygments_lexer": "ipython3",
   "version": "3.6.8"
  }
 },
 "nbformat": 4,
 "nbformat_minor": 2
}
